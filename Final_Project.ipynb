{
 "cells": [
  {
   "cell_type": "markdown",
   "id": "ad1a9713-6221-4e9c-9ae1-a1eca690faff",
   "metadata": {},
   "source": [
    "# Time Series Project - Main Code Notebook"
   ]
  },
  {
   "cell_type": "code",
   "execution_count": 19,
   "id": "b6b87b74-d425-4110-96c0-d94c82868036",
   "metadata": {},
   "outputs": [],
   "source": [
    "import pandas as pd \n",
    "import numpy as np\n",
    "from statsmodels.tsa.seasonal import seasonal_decompose\n",
    "import matplotlib.pyplot as plt\n",
    "import seaborn as sns\n",
    "import matplotlib.dates as mdates\n",
    "\n",
    "sns.set_style(\"darkgrid\")"
   ]
  },
  {
   "cell_type": "markdown",
   "id": "6dae9f60-dad6-4c1b-966a-078066a972e1",
   "metadata": {},
   "source": [
    "## Part 1 - Data EDA "
   ]
  },
  {
   "cell_type": "code",
   "execution_count": 4,
   "id": "39aca6e0-a89f-4b1a-b84a-832efecdc885",
   "metadata": {},
   "outputs": [],
   "source": [
    "df = pd.read_csv(\"data/pollution_and_new_cars_unified.csv\")"
   ]
  },
  {
   "cell_type": "code",
   "execution_count": 18,
   "id": "01fe7c00-b1ed-44f9-8a27-80a87a67bde5",
   "metadata": {},
   "outputs": [],
   "source": [
    "# split the unified dataset to data on air pollution and data on cars registration\n",
    "df['date'] = pd.to_datetime(df['date'])\n",
    "co_levels = df.drop(\"car_num\", axis = 1)\n",
    "co_levels = pd.melt(co_levels, id_vars='date', var_name='station', value_name='CO')\n",
    "cars = df.loc[:, ['date','car_num']]"
   ]
  },
  {
   "cell_type": "code",
   "execution_count": null,
   "id": "0a510b92-0c34-47aa-bdcc-c2f7b9fbb7d5",
   "metadata": {},
   "outputs": [],
   "source": []
  }
 ],
 "metadata": {
  "kernelspec": {
   "display_name": "Python 3 (ipykernel)",
   "language": "python",
   "name": "python3"
  },
  "language_info": {
   "codemirror_mode": {
    "name": "ipython",
    "version": 3
   },
   "file_extension": ".py",
   "mimetype": "text/x-python",
   "name": "python",
   "nbconvert_exporter": "python",
   "pygments_lexer": "ipython3",
   "version": "3.10.15"
  }
 },
 "nbformat": 4,
 "nbformat_minor": 5
}
